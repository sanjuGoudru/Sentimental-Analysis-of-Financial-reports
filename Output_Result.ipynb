{
 "cells": [
  {
   "cell_type": "code",
   "execution_count": 1,
   "metadata": {},
   "outputs": [],
   "source": [
    "from Process_data import Process_data"
   ]
  },
  {
   "cell_type": "code",
   "execution_count": 2,
   "metadata": {},
   "outputs": [],
   "source": [
    "import pandas as pd"
   ]
  },
  {
   "cell_type": "code",
   "execution_count": 3,
   "metadata": {},
   "outputs": [],
   "source": [
    "df = pd.read_excel('cik_list.xlsx')\n"
   ]
  },
  {
   "cell_type": "code",
   "execution_count": 4,
   "metadata": {},
   "outputs": [],
   "source": [
    "ex = Process_data(df)"
   ]
  },
  {
   "cell_type": "code",
   "execution_count": 5,
   "metadata": {},
   "outputs": [
    {
     "name": "stdout",
     "output_type": "stream",
     "text": [
      "ELSE:Soup title: <title>SEC.gov | Request Rate Threshold Exceeded</title>\n",
      "edgar/data/3662/0000950170-98-000413.txt:1\n",
      "ELSE:Soup title: <title>SEC.gov | Request Rate Threshold Exceeded</title>\n",
      "edgar/data/3662/0000950170-98-000413.txt:2\n",
      "ELSE:Soup title: <title>SEC.gov | Request Rate Threshold Exceeded</title>\n",
      "edgar/data/3662/0000950170-98-000413.txt:3\n",
      "ELSE:Soup title: <title>SEC.gov | Request Rate Threshold Exceeded</title>\n",
      "edgar/data/3662/0000950170-98-000413.txt:4\n",
      "ELSE:Soup title: <title>SEC.gov | Request Rate Threshold Exceeded</title>\n",
      "edgar/data/3662/0000950170-98-000413.txt:5\n",
      "ELSE:Soup title: <title>SEC.gov | Request Rate Threshold Exceeded</title>\n",
      "edgar/data/3662/0000950170-98-000413.txt:6\n",
      "IF:Soup title: None\n",
      "ELSE:Soup title: <title>SEC.gov | Request Rate Threshold Exceeded</title>\n",
      "edgar/data/3662/0000950170-98-001001.txt:1\n",
      "ELSE:Soup title: <title>SEC.gov | Request Rate Threshold Exceeded</title>\n",
      "edgar/data/3662/0000950170-98-001001.txt:2\n",
      "ELSE:Soup title: <title>SEC.gov | Request Rate Threshold Exceeded</title>\n",
      "edgar/data/3662/0000950170-98-001001.txt:3\n",
      "ELSE:Soup title: <title>SEC.gov | Request Rate Threshold Exceeded</title>\n",
      "edgar/data/3662/0000950170-98-001001.txt:4\n",
      "ELSE:Soup title: <title>SEC.gov | Request Rate Threshold Exceeded</title>\n",
      "edgar/data/3662/0000950170-98-001001.txt:5\n",
      "IF:Soup title: None\n",
      "ELSE:Soup title: <title>SEC.gov | Request Rate Threshold Exceeded</title>\n",
      "edgar/data/3662/0000950172-98-000783.txt:1\n",
      "IF:Soup title: None\n",
      "ELSE:Soup title: <title>SEC.gov | Request Rate Threshold Exceeded</title>\n",
      "edgar/data/3662/0000950170-98-002145.txt:1\n",
      "ELSE:Soup title: <title>SEC.gov | Request Rate Threshold Exceeded</title>\n",
      "edgar/data/3662/0000950170-98-002145.txt:2\n",
      "ELSE:Soup title: <title>SEC.gov | Request Rate Threshold Exceeded</title>\n",
      "edgar/data/3662/0000950170-98-002145.txt:3\n",
      "ELSE:Soup title: <title>SEC.gov | Request Rate Threshold Exceeded</title>\n",
      "edgar/data/3662/0000950170-98-002145.txt:4\n",
      "IF:Soup title: None\n",
      "ELSE:Soup title: <title>SEC.gov | Request Rate Threshold Exceeded</title>\n",
      "edgar/data/3662/0000950172-98-001203.txt:1\n",
      "ELSE:Soup title: <title>SEC.gov | Request Rate Threshold Exceeded</title>\n",
      "edgar/data/3662/0000950172-98-001203.txt:2\n",
      "IF:Soup title: None\n"
     ]
    }
   ],
   "source": [
    "ex.download_files(num=5)"
   ]
  },
  {
   "cell_type": "code",
   "execution_count": null,
   "metadata": {},
   "outputs": [],
   "source": [
    "res_df = ex.compute(num=5)"
   ]
  },
  {
   "cell_type": "code",
   "execution_count": null,
   "metadata": {},
   "outputs": [],
   "source": [
    "res_df"
   ]
  }
 ],
 "metadata": {
  "kernelspec": {
   "display_name": "Python 3",
   "language": "python",
   "name": "python3"
  },
  "language_info": {
   "codemirror_mode": {
    "name": "ipython",
    "version": 3
   },
   "file_extension": ".py",
   "mimetype": "text/x-python",
   "name": "python",
   "nbconvert_exporter": "python",
   "pygments_lexer": "ipython3",
   "version": "3.8.3"
  }
 },
 "nbformat": 4,
 "nbformat_minor": 4
}
